{
  "cells": [
    {
      "cell_type": "markdown",
      "metadata": {
        "id": "zch3-vylV2bH"
      },
      "source": [
        "Raditi će se na istoj bazi podataka kao i na labosu, opet, radi usporedbe. Originalno je planirao raditi klasifikaciju za objekte od Intel Image Classification repozetorija slika ali radi lakšeg shvaćanja kolika je razlika u brzini i preciznosti modela koristi se već poznata grupa podataka."
      ]
    },
    {
      "cell_type": "code",
      "execution_count": 4,
      "metadata": {
        "id": "dpAbfGpdWTH_"
      },
      "outputs": [],
      "source": [
        "import tensorflow as tf\n",
        "from tensorflow.keras.applications import MobileNetV2\n",
        "from tensorflow.keras.applications import EfficientNetB0\n",
        "from tensorflow.keras.applications import ResNet50\n",
        "from tensorflow.keras.models import Model\n",
        "from tensorflow.keras.layers import Dense, GlobalAveragePooling2D\n",
        "from tensorflow.keras.datasets import cifar10\n",
        "from tensorflow.keras.utils import to_categorical\n",
        "from tensorflow.keras.optimizers import Adam\n",
        "from tensorflow.keras.preprocessing.image import ImageDataGenerator\n",
        "from tensorflow.keras.utils import plot_model\n",
        "from tensorflow.keras.models import load_model\n",
        "import matplotlib.pyplot as plt\n",
        "import numpy as np\n",
        "import keras"
      ]
    },
    {
      "cell_type": "code",
      "execution_count": null,
      "metadata": {
        "colab": {
          "base_uri": "https://localhost:8080/"
        },
        "id": "ruHSkYP0Wd_V",
        "outputId": "004e0edc-a2cb-4187-dfcc-6db75c553a87"
      },
      "outputs": [
        {
          "name": "stdout",
          "output_type": "stream",
          "text": [
            "Downloading data from https://www.cs.toronto.edu/~kriz/cifar-10-python.tar.gz\n",
            "\u001b[1m170498071/170498071\u001b[0m \u001b[32m━━━━━━━━━━━━━━━━━━━━\u001b[0m\u001b[37m\u001b[0m \u001b[1m4s\u001b[0m 0us/step\n"
          ]
        }
      ],
      "source": [
        "(a_train, b_train), (a_test, b_test) = cifar10.load_data()"
      ]
    },
    {
      "cell_type": "markdown",
      "metadata": {
        "id": "kaX96ZHuWeqr"
      },
      "source": [
        "Prikupljanje podataka, koristi se  a i b umjesto x i y jer preferiram takvu konveciju."
      ]
    },
    {
      "cell_type": "code",
      "execution_count": 11,
      "metadata": {
        "id": "qsdr0qCDWxeI"
      },
      "outputs": [],
      "source": [
        "a_train = a_train.astype('float32') / 255.0\n",
        "a_test = a_test.astype('float32') / 255.0\n"
      ]
    },
    {
      "cell_type": "code",
      "execution_count": 12,
      "metadata": {
        "id": "JgruUwzOW5Sq"
      },
      "outputs": [],
      "source": [
        "b_train = to_categorical(b_train, 10)\n",
        "b_test = to_categorical(b_test, 10)"
      ]
    },
    {
      "cell_type": "code",
      "execution_count": 13,
      "metadata": {
        "colab": {
          "base_uri": "https://localhost:8080/"
        },
        "id": "FkM_gPydXBLI",
        "outputId": "d3747d35-95ea-41ff-bc32-d7cb1aa7369f"
      },
      "outputs": [
        {
          "name": "stderr",
          "output_type": "stream",
          "text": [
            "<ipython-input-13-57cf84fae496>:1: UserWarning: `input_shape` is undefined or non-square, or `rows` is not in [96, 128, 160, 192, 224]. Weights for input shape (224, 224) will be loaded as the default.\n",
            "  temelj = MobileNetV2(weights='imagenet', include_top=False, input_shape=(32, 32, 3))\n"
          ]
        },
        {
          "name": "stdout",
          "output_type": "stream",
          "text": [
            "Downloading data from https://storage.googleapis.com/tensorflow/keras-applications/mobilenet_v2/mobilenet_v2_weights_tf_dim_ordering_tf_kernels_1.0_224_no_top.h5\n",
            "\u001b[1m9406464/9406464\u001b[0m \u001b[32m━━━━━━━━━━━━━━━━━━━━\u001b[0m\u001b[37m\u001b[0m \u001b[1m0s\u001b[0m 0us/step\n"
          ]
        }
      ],
      "source": [
        "temelj = MobileNetV2(weights='imagenet', include_top=False, input_shape=(32, 32, 3))"
      ]
    },
    {
      "cell_type": "markdown",
      "metadata": {
        "id": "oS5OWYpQYvU9"
      },
      "source": [
        "Ovo je već unaprijed definirana arhitektura pa ovaj stil iznad teksta i ispod je temeljen kako ostali to rade. Dosta je općit i predefiniran pa daljna elaboracija o načinu do kojeg se ovo stvorilo je nebitan. U PDFu je dublje opisano točnije šta kod radi."
      ]
    },
    {
      "cell_type": "code",
      "execution_count": 14,
      "metadata": {
        "id": "YG_U52WHbIUp"
      },
      "outputs": [],
      "source": [
        "a = GlobalAveragePooling2D()(temelj.output)\n",
        "predikcijski_sloj = Dense(10, activation='softmax')(a)\n",
        "model = Model(inputs=temelj.input, outputs=predikcijski_sloj)"
      ]
    },
    {
      "cell_type": "markdown",
      "metadata": {
        "id": "VF8zplinlyPD"
      },
      "source": [
        "prvo test bes temelja"
      ]
    },
    {
      "cell_type": "code",
      "execution_count": null,
      "metadata": {
        "colab": {
          "base_uri": "https://localhost:8080/"
        },
        "id": "twG4qz0fjftX",
        "outputId": "ce063698-1295-4c84-a8e6-43464e24c741"
      },
      "outputs": [
        {
          "name": "stdout",
          "output_type": "stream",
          "text": [
            "Training classification head...\n",
            "Epoch 1/5\n",
            "\u001b[1m782/782\u001b[0m \u001b[32m━━━━━━━━━━━━━━━━━━━━\u001b[0m\u001b[37m\u001b[0m \u001b[1m18s\u001b[0m 13ms/step - accuracy: 0.1440 - loss: 2.2861 - val_accuracy: 0.2066 - val_loss: 2.2305\n",
            "Epoch 2/5\n",
            "\u001b[1m782/782\u001b[0m \u001b[32m━━━━━━━━━━━━━━━━━━━━\u001b[0m\u001b[37m\u001b[0m \u001b[1m6s\u001b[0m 8ms/step - accuracy: 0.2274 - loss: 2.2146 - val_accuracy: 0.2443 - val_loss: 2.1739\n",
            "Epoch 3/5\n",
            "\u001b[1m782/782\u001b[0m \u001b[32m━━━━━━━━━━━━━━━━━━━━\u001b[0m\u001b[37m\u001b[0m \u001b[1m11s\u001b[0m 8ms/step - accuracy: 0.2573 - loss: 2.1625 - val_accuracy: 0.2643 - val_loss: 2.1307\n",
            "Epoch 4/5\n",
            "\u001b[1m782/782\u001b[0m \u001b[32m━━━━━━━━━━━━━━━━━━━━\u001b[0m\u001b[37m\u001b[0m \u001b[1m9s\u001b[0m 7ms/step - accuracy: 0.2714 - loss: 2.1186 - val_accuracy: 0.2742 - val_loss: 2.0970\n",
            "Epoch 5/5\n",
            "\u001b[1m782/782\u001b[0m \u001b[32m━━━━━━━━━━━━━━━━━━━━\u001b[0m\u001b[37m\u001b[0m \u001b[1m6s\u001b[0m 7ms/step - accuracy: 0.2776 - loss: 2.0875 - val_accuracy: 0.2826 - val_loss: 2.0704\n"
          ]
        }
      ],
      "source": [
        "# Prvo treniranje samo klasifikacije\n",
        "for layer in temelj.layers:\n",
        "    layer.trainable = False\n",
        "\n",
        "# kompajliraj\n",
        "model.compile(optimizer=Adam(learning_rate=1e-4), loss='categorical_crossentropy', metrics=['accuracy'])\n",
        "\n",
        "# Samo njih na 5 epoha\n",
        "print(\"Training classification head...\")\n",
        "history = model.fit(\n",
        "    a_train, b_train,\n",
        "    batch_size=64,\n",
        "    epochs=5,\n",
        "    validation_data=(a_test, b_test),\n",
        "    verbose=1\n",
        ")"
      ]
    },
    {
      "cell_type": "code",
      "execution_count": null,
      "metadata": {
        "colab": {
          "base_uri": "https://localhost:8080/"
        },
        "id": "t_BQqLBel01d",
        "outputId": "c0d00351-b1c3-4dbd-ff88-adf1113dd1ab"
      },
      "outputs": [
        {
          "name": "stdout",
          "output_type": "stream",
          "text": [
            "Training classification head...\n",
            "Epoch 1/10\n",
            "\u001b[1m782/782\u001b[0m \u001b[32m━━━━━━━━━━━━━━━━━━━━\u001b[0m\u001b[37m\u001b[0m \u001b[1m67s\u001b[0m 35ms/step - accuracy: 0.3000 - loss: 2.2285 - val_accuracy: 0.1538 - val_loss: 3.0427\n",
            "Epoch 2/10\n",
            "\u001b[1m782/782\u001b[0m \u001b[32m━━━━━━━━━━━━━━━━━━━━\u001b[0m\u001b[37m\u001b[0m \u001b[1m12s\u001b[0m 15ms/step - accuracy: 0.5300 - loss: 1.3501 - val_accuracy: 0.3253 - val_loss: 1.9438\n",
            "Epoch 3/10\n",
            "\u001b[1m782/782\u001b[0m \u001b[32m━━━━━━━━━━━━━━━━━━━━\u001b[0m\u001b[37m\u001b[0m \u001b[1m12s\u001b[0m 15ms/step - accuracy: 0.6092 - loss: 1.1190 - val_accuracy: 0.5730 - val_loss: 1.2764\n",
            "Epoch 4/10\n",
            "\u001b[1m782/782\u001b[0m \u001b[32m━━━━━━━━━━━━━━━━━━━━\u001b[0m\u001b[37m\u001b[0m \u001b[1m12s\u001b[0m 16ms/step - accuracy: 0.6584 - loss: 0.9717 - val_accuracy: 0.6372 - val_loss: 1.0979\n",
            "Epoch 5/10\n",
            "\u001b[1m782/782\u001b[0m \u001b[32m━━━━━━━━━━━━━━━━━━━━\u001b[0m\u001b[37m\u001b[0m \u001b[1m12s\u001b[0m 15ms/step - accuracy: 0.7044 - loss: 0.8485 - val_accuracy: 0.6798 - val_loss: 0.9303\n",
            "Epoch 6/10\n",
            "\u001b[1m782/782\u001b[0m \u001b[32m━━━━━━━━━━━━━━━━━━━━\u001b[0m\u001b[37m\u001b[0m \u001b[1m21s\u001b[0m 15ms/step - accuracy: 0.7373 - loss: 0.7517 - val_accuracy: 0.6972 - val_loss: 0.8708\n",
            "Epoch 7/10\n",
            "\u001b[1m782/782\u001b[0m \u001b[32m━━━━━━━━━━━━━━━━━━━━\u001b[0m\u001b[37m\u001b[0m \u001b[1m20s\u001b[0m 15ms/step - accuracy: 0.7631 - loss: 0.6756 - val_accuracy: 0.7290 - val_loss: 0.8101\n",
            "Epoch 8/10\n",
            "\u001b[1m782/782\u001b[0m \u001b[32m━━━━━━━━━━━━━━━━━━━━\u001b[0m\u001b[37m\u001b[0m \u001b[1m12s\u001b[0m 15ms/step - accuracy: 0.7839 - loss: 0.6082 - val_accuracy: 0.7302 - val_loss: 0.8234\n",
            "Epoch 9/10\n",
            "\u001b[1m782/782\u001b[0m \u001b[32m━━━━━━━━━━━━━━━━━━━━\u001b[0m\u001b[37m\u001b[0m \u001b[1m12s\u001b[0m 16ms/step - accuracy: 0.8016 - loss: 0.5559 - val_accuracy: 0.7385 - val_loss: 0.8329\n",
            "Epoch 10/10\n",
            "\u001b[1m782/782\u001b[0m \u001b[32m━━━━━━━━━━━━━━━━━━━━\u001b[0m\u001b[37m\u001b[0m \u001b[1m12s\u001b[0m 16ms/step - accuracy: 0.8188 - loss: 0.5121 - val_accuracy: 0.7573 - val_loss: 0.7606\n"
          ]
        }
      ],
      "source": [
        "# Prvo treniranje samo klasifikacije\n",
        "for layer in temelj.layers:\n",
        "    layer.trainable = True\n",
        "\n",
        "# kompajliraj\n",
        "model.compile(optimizer=Adam(learning_rate=1e-4), loss='categorical_crossentropy', metrics=['accuracy'])\n",
        "\n",
        "# Samo njih na 5 epoha\n",
        "print(\"Training classification head...\")\n",
        "sve_trenirano = model.fit(\n",
        "    a_train, b_train,\n",
        "    batch_size=64,\n",
        "    epochs=10,\n",
        "    validation_data=(a_test, b_test),\n",
        "    verbose=1\n",
        ")"
      ]
    },
    {
      "cell_type": "code",
      "execution_count": null,
      "metadata": {
        "colab": {
          "base_uri": "https://localhost:8080/"
        },
        "id": "8MTmzPrDgdgU",
        "outputId": "3e935676-10b9-4f94-ca01-210147ba6919"
      },
      "outputs": [
        {
          "name": "stdout",
          "output_type": "stream",
          "text": [
            "\u001b[1m313/313\u001b[0m \u001b[32m━━━━━━━━━━━━━━━━━━━━\u001b[0m\u001b[37m\u001b[0m \u001b[1m3s\u001b[0m 5ms/step - accuracy: 0.7572 - loss: 0.7774\n",
            "Preciznost: 0.7573\n"
          ]
        }
      ],
      "source": [
        "loss, accuracy = model.evaluate(a_test, b_test, verbose=1)\n",
        "print(f\"Preciznost: {accuracy:.4f}\")\n",
        "\n",
        "# Save the model\n",
        "keras.saving.save_model(model, 'mobilenetv2.keras')"
      ]
    },
    {
      "cell_type": "markdown",
      "metadata": {
        "id": "iuDhqRQDmzlP"
      },
      "source": [
        "Vidi se da je preciznost 0.7573 tj 75.53%, više nego sa laboratorijskih vježbi i znatno brži."
      ]
    },
    {
      "cell_type": "markdown",
      "metadata": {
        "id": "gnVSbsJVnAdf"
      },
      "source": [
        "Sada ide EffectiveNet, koriste se iste varijable radi prakticnosti trenira se na skoro isti način pa je samo copy paste većinu stvari od prošlog. Svakako se pamte zavrsi podatci za krajnju usporedbu."
      ]
    },
    {
      "cell_type": "code",
      "execution_count": null,
      "metadata": {
        "id": "l4SEx5MWn835"
      },
      "outputs": [],
      "source": [
        "#Sve identično kao i prije\n",
        "(a_train, b_train), (a_test, b_test) = cifar10.load_data()\n",
        "\n",
        "\n",
        "a_train = a_train.astype('float32') / 255.0\n",
        "a_test = a_test.astype('float32') / 255.0\n",
        "\n",
        "\n",
        "b_train = to_categorical(b_train, 10)\n",
        "b_test = to_categorical(b_test, 10)"
      ]
    },
    {
      "cell_type": "code",
      "execution_count": null,
      "metadata": {
        "id": "TbCKPpZqoU2T"
      },
      "outputs": [],
      "source": [
        "datagen = ImageDataGenerator(\n",
        "    rotation_range=20,\n",
        "    width_shift_range=0.2,\n",
        "    height_shift_range=0.2,\n",
        "    horizontal_flip=True\n",
        ")\n",
        "datagen.fit(a_train)"
      ]
    },
    {
      "cell_type": "markdown",
      "metadata": {
        "id": "ohx79nAZoaxl"
      },
      "source": [
        "Ovo mi preporučio GPT, da bi pomoglo pri kvaliteti preciznosti modela, pa će se probati."
      ]
    },
    {
      "cell_type": "code",
      "execution_count": null,
      "metadata": {
        "colab": {
          "base_uri": "https://localhost:8080/"
        },
        "id": "E18lTTrsof8R",
        "outputId": "54aaaa90-5c62-4554-caa0-c6316343a34d"
      },
      "outputs": [
        {
          "name": "stdout",
          "output_type": "stream",
          "text": [
            "Downloading data from https://storage.googleapis.com/keras-applications/efficientnetb0_notop.h5\n",
            "\u001b[1m16705208/16705208\u001b[0m \u001b[32m━━━━━━━━━━━━━━━━━━━━\u001b[0m\u001b[37m\u001b[0m \u001b[1m2s\u001b[0m 0us/step\n"
          ]
        }
      ],
      "source": [
        "temelj = EfficientNetB0(weights='imagenet', include_top=False, input_shape=(32, 32, 3))"
      ]
    },
    {
      "cell_type": "code",
      "execution_count": null,
      "metadata": {
        "id": "uuPIFjqeonrM"
      },
      "outputs": [],
      "source": [
        "for layer in temelj.layers:\n",
        "    layer.trainable = False"
      ]
    },
    {
      "cell_type": "code",
      "execution_count": null,
      "metadata": {
        "id": "HX8IWCFxoqBK"
      },
      "outputs": [],
      "source": [
        "a = GlobalAveragePooling2D()(temelj.output)\n",
        "predikcijski_sloj = Dense(10, activation='softmax')(a)\n",
        "model = Model(inputs=temelj.input, outputs=predikcijski_sloj)"
      ]
    },
    {
      "cell_type": "code",
      "execution_count": null,
      "metadata": {
        "id": "DQIAfb_no06B"
      },
      "outputs": [],
      "source": [
        "model.compile(\n",
        "    optimizer=tf.keras.optimizers.Adam(learning_rate=1e-4),\n",
        "    loss='categorical_crossentropy',\n",
        "    metrics=['accuracy']\n",
        ")"
      ]
    },
    {
      "cell_type": "code",
      "execution_count": null,
      "metadata": {
        "colab": {
          "base_uri": "https://localhost:8080/"
        },
        "id": "MvqkEMDUo3DV",
        "outputId": "9aec716f-76fb-4270-c073-eb8a6480767f"
      },
      "outputs": [
        {
          "name": "stdout",
          "output_type": "stream",
          "text": [
            "Epoch 1/5\n",
            "\u001b[1m782/782\u001b[0m \u001b[32m━━━━━━━━━━━━━━━━━━━━\u001b[0m\u001b[37m\u001b[0m \u001b[1m28s\u001b[0m 36ms/step - accuracy: 0.1013 - loss: 2.3102 - val_accuracy: 0.1000 - val_loss: 2.3041\n",
            "Epoch 2/5\n",
            "\u001b[1m782/782\u001b[0m \u001b[32m━━━━━━━━━━━━━━━━━━━━\u001b[0m\u001b[37m\u001b[0m \u001b[1m19s\u001b[0m 7ms/step - accuracy: 0.1047 - loss: 2.3058 - val_accuracy: 0.1030 - val_loss: 2.3048\n",
            "Epoch 3/5\n",
            "\u001b[1m782/782\u001b[0m \u001b[32m━━━━━━━━━━━━━━━━━━━━\u001b[0m\u001b[37m\u001b[0m \u001b[1m6s\u001b[0m 7ms/step - accuracy: 0.1000 - loss: 2.3057 - val_accuracy: 0.1000 - val_loss: 2.3046\n",
            "Epoch 4/5\n",
            "\u001b[1m782/782\u001b[0m \u001b[32m━━━━━━━━━━━━━━━━━━━━\u001b[0m\u001b[37m\u001b[0m \u001b[1m6s\u001b[0m 8ms/step - accuracy: 0.0963 - loss: 2.3056 - val_accuracy: 0.1000 - val_loss: 2.3055\n",
            "Epoch 5/5\n",
            "\u001b[1m782/782\u001b[0m \u001b[32m━━━━━━━━━━━━━━━━━━━━\u001b[0m\u001b[37m\u001b[0m \u001b[1m11s\u001b[0m 9ms/step - accuracy: 0.0999 - loss: 2.3054 - val_accuracy: 0.1104 - val_loss: 2.3039\n"
          ]
        }
      ],
      "source": [
        "pocetno = model.fit(\n",
        "    a_train, b_train,\n",
        "    batch_size=64,\n",
        "    epochs=5,\n",
        "    validation_data=(a_test, b_test),\n",
        "    verbose=1\n",
        ")"
      ]
    },
    {
      "cell_type": "markdown",
      "metadata": {
        "id": "24q2AW26pRVL"
      },
      "source": [
        "Preciznost nakon što su se smrznuli slojevi koji se mogu trenirati je dosta loš, vjerojatno do arhitekture EfficientNeta"
      ]
    },
    {
      "cell_type": "code",
      "execution_count": null,
      "metadata": {
        "colab": {
          "base_uri": "https://localhost:8080/"
        },
        "id": "Rnq4T2RIpbVJ",
        "outputId": "f486c32a-d98e-46dd-d71f-61ab95738c2b"
      },
      "outputs": [
        {
          "name": "stdout",
          "output_type": "stream",
          "text": [
            "Glavno\n",
            "Epoch 1/10\n",
            "\u001b[1m782/782\u001b[0m \u001b[32m━━━━━━━━━━━━━━━━━━━━\u001b[0m\u001b[37m\u001b[0m \u001b[1m125s\u001b[0m 71ms/step - accuracy: 0.3270 - loss: 1.9615 - val_accuracy: 0.3870 - val_loss: 1.8952\n",
            "Epoch 2/10\n",
            "\u001b[1m782/782\u001b[0m \u001b[32m━━━━━━━━━━━━━━━━━━━━\u001b[0m\u001b[37m\u001b[0m \u001b[1m73s\u001b[0m 21ms/step - accuracy: 0.6323 - loss: 1.0527 - val_accuracy: 0.6904 - val_loss: 0.8887\n",
            "Epoch 3/10\n",
            "\u001b[1m782/782\u001b[0m \u001b[32m━━━━━━━━━━━━━━━━━━━━\u001b[0m\u001b[37m\u001b[0m \u001b[1m20s\u001b[0m 21ms/step - accuracy: 0.7083 - loss: 0.8321 - val_accuracy: 0.7374 - val_loss: 0.7725\n",
            "Epoch 4/10\n",
            "\u001b[1m782/782\u001b[0m \u001b[32m━━━━━━━━━━━━━━━━━━━━\u001b[0m\u001b[37m\u001b[0m \u001b[1m16s\u001b[0m 21ms/step - accuracy: 0.7611 - loss: 0.6842 - val_accuracy: 0.7549 - val_loss: 0.7120\n",
            "Epoch 5/10\n",
            "\u001b[1m782/782\u001b[0m \u001b[32m━━━━━━━━━━━━━━━━━━━━\u001b[0m\u001b[37m\u001b[0m \u001b[1m20s\u001b[0m 21ms/step - accuracy: 0.7954 - loss: 0.5796 - val_accuracy: 0.7740 - val_loss: 0.6711\n",
            "Epoch 6/10\n",
            "\u001b[1m782/782\u001b[0m \u001b[32m━━━━━━━━━━━━━━━━━━━━\u001b[0m\u001b[37m\u001b[0m \u001b[1m21s\u001b[0m 21ms/step - accuracy: 0.8283 - loss: 0.4939 - val_accuracy: 0.7888 - val_loss: 0.6454\n",
            "Epoch 7/10\n",
            "\u001b[1m782/782\u001b[0m \u001b[32m━━━━━━━━━━━━━━━━━━━━\u001b[0m\u001b[37m\u001b[0m \u001b[1m20s\u001b[0m 21ms/step - accuracy: 0.8466 - loss: 0.4312 - val_accuracy: 0.7882 - val_loss: 0.6498\n",
            "Epoch 8/10\n",
            "\u001b[1m782/782\u001b[0m \u001b[32m━━━━━━━━━━━━━━━━━━━━\u001b[0m\u001b[37m\u001b[0m \u001b[1m20s\u001b[0m 21ms/step - accuracy: 0.8745 - loss: 0.3621 - val_accuracy: 0.7888 - val_loss: 0.6555\n",
            "Epoch 9/10\n",
            "\u001b[1m782/782\u001b[0m \u001b[32m━━━━━━━━━━━━━━━━━━━━\u001b[0m\u001b[37m\u001b[0m \u001b[1m16s\u001b[0m 21ms/step - accuracy: 0.8933 - loss: 0.3061 - val_accuracy: 0.7937 - val_loss: 0.6645\n",
            "Epoch 10/10\n",
            "\u001b[1m782/782\u001b[0m \u001b[32m━━━━━━━━━━━━━━━━━━━━\u001b[0m\u001b[37m\u001b[0m \u001b[1m21s\u001b[0m 21ms/step - accuracy: 0.9049 - loss: 0.2751 - val_accuracy: 0.7950 - val_loss: 0.6670\n"
          ]
        }
      ],
      "source": [
        "for layer in temelj.layers:\n",
        "    layer.trainable = True\n",
        "\n",
        "# kompajliraj\n",
        "model.compile(optimizer=Adam(learning_rate=1e-4), loss='categorical_crossentropy', metrics=['accuracy'])\n",
        "\n",
        "# Samo njih na 5 epoha\n",
        "print(\"Glavno\")\n",
        "sve_trenirano = model.fit(\n",
        "    a_train, b_train,\n",
        "    batch_size=64,\n",
        "    epochs=10,\n",
        "    validation_data=(a_test, b_test),\n",
        "    verbose=1\n",
        ")"
      ]
    },
    {
      "cell_type": "code",
      "execution_count": null,
      "metadata": {
        "colab": {
          "base_uri": "https://localhost:8080/"
        },
        "id": "_E2emVgdrSwC",
        "outputId": "00a8a7b1-6061-4c28-fe1d-d72684b13080"
      },
      "outputs": [
        {
          "name": "stdout",
          "output_type": "stream",
          "text": [
            "\u001b[1m313/313\u001b[0m \u001b[32m━━━━━━━━━━━━━━━━━━━━\u001b[0m\u001b[37m\u001b[0m \u001b[1m2s\u001b[0m 6ms/step - accuracy: 0.7940 - loss: 0.6815\n"
          ]
        },
        {
          "name": "stderr",
          "output_type": "stream",
          "text": [
            "WARNING:absl:You are saving your model as an HDF5 file via `model.save()` or `keras.saving.save_model(model)`. This file format is considered legacy. We recommend using instead the native Keras format, e.g. `model.save('my_model.keras')` or `keras.saving.save_model(model, 'my_model.keras')`. \n"
          ]
        },
        {
          "name": "stdout",
          "output_type": "stream",
          "text": [
            "Preciznost: 0.7950\n"
          ]
        }
      ],
      "source": [
        "loss, accuracy = model.evaluate(a_test, b_test, verbose=1)\n",
        "print(f\"Preciznost: {accuracy:.4f}\")\n",
        "\n",
        "# Save the model\n",
        "model.save('efficientnetb0_cifar10.h5')"
      ]
    },
    {
      "cell_type": "code",
      "execution_count": 10,
      "metadata": {
        "colab": {
          "base_uri": "https://localhost:8080/"
        },
        "id": "Og1ptdzGurhY",
        "outputId": "9b0d28ec-6ef9-47ec-8d69-8c5de107551d"
      },
      "outputs": [
        {
          "name": "stdout",
          "output_type": "stream",
          "text": [
            "\u001b[1m313/313\u001b[0m \u001b[32m━━━━━━━━━━━━━━━━━━━━\u001b[0m\u001b[37m\u001b[0m \u001b[1m2s\u001b[0m 5ms/step\n"
          ]
        }
      ],
      "source": [
        "from sklearn.metrics import classification_report,confusion_matrix\n",
        "\n",
        "predictions = model.predict(a_test)\n",
        "predict_classes = np.argmax(predictions, axis=1)"
      ]
    },
    {
      "cell_type": "code",
      "execution_count": 2,
      "metadata": {
        "id": "bs6XxCEZr1aM"
      },
      "outputs": [],
      "source": [
        "grupe = [\n",
        "    \"avion\", \"automobil\", \"ptica\", \"mačka\", \"jelen\",\n",
        "    \"pas\", \"žaba\", \"konj\", \"brod\", \"kamion\"\n",
        "]"
      ]
    },
    {
      "cell_type": "code",
      "execution_count": null,
      "metadata": {
        "colab": {
          "base_uri": "https://localhost:8080/"
        },
        "id": "-jBuBtkDvGTs",
        "outputId": "e16ffe80-b53a-4e39-ec8e-c98d3a8f64c1"
      },
      "outputs": [
        {
          "name": "stdout",
          "output_type": "stream",
          "text": [
            "Predicted class: brod\n"
          ]
        }
      ],
      "source": [
        "predicted_index = predict_classes[1]\n",
        "predicted_name = grupe[predicted_index]\n",
        "print(f\"Predicted class: {predicted_name}\")"
      ]
    },
    {
      "cell_type": "markdown",
      "metadata": {
        "id": "9dT0W67Xrdxp"
      },
      "source": [
        "Nešto brže od prošlog modela ali zato i malo sporije."
      ]
    },
    {
      "cell_type": "code",
      "execution_count": null,
      "metadata": {
        "colab": {
          "base_uri": "https://localhost:8080/"
        },
        "id": "56qZ25PRsgXc",
        "outputId": "7e084bb4-ff7d-4be3-ae2c-c9b8484c8827"
      },
      "outputs": [
        {
          "name": "stderr",
          "output_type": "stream",
          "text": [
            "WARNING:absl:Compiled the loaded model, but the compiled metrics have yet to be built. `model.compile_metrics` will be empty until you train or evaluate the model.\n"
          ]
        }
      ],
      "source": [
        "efficientnet_model = load_model('efficientnetb0_cifar10.h5')\n",
        "mobilenet_model = load_model('/content/visualmodels/rezultati/mobilenetv2.keras')"
      ]
    },
    {
      "cell_type": "code",
      "execution_count": 5,
      "metadata": {
        "colab": {
          "base_uri": "https://localhost:8080/"
        },
        "id": "IwgVdGvJ0XiH",
        "outputId": "992fee83-3b58-4eba-bead-94e0475598f9"
      },
      "outputs": [
        {
          "name": "stdout",
          "output_type": "stream",
          "text": [
            "Downloading data from https://www.cs.toronto.edu/~kriz/cifar-10-python.tar.gz\n",
            "\u001b[1m170498071/170498071\u001b[0m \u001b[32m━━━━━━━━━━━━━━━━━━━━\u001b[0m\u001b[37m\u001b[0m \u001b[1m4s\u001b[0m 0us/step\n",
            "Downloading data from https://storage.googleapis.com/tensorflow/keras-applications/resnet/resnet50_weights_tf_dim_ordering_tf_kernels_notop.h5\n",
            "\u001b[1m94765736/94765736\u001b[0m \u001b[32m━━━━━━━━━━━━━━━━━━━━\u001b[0m\u001b[37m\u001b[0m \u001b[1m0s\u001b[0m 0us/step\n",
            "Epoch 1/10\n",
            "\u001b[1m782/782\u001b[0m \u001b[32m━━━━━━━━━━━━━━━━━━━━\u001b[0m\u001b[37m\u001b[0m \u001b[1m28s\u001b[0m 21ms/step - accuracy: 0.1846 - loss: 2.2783 - val_accuracy: 0.2524 - val_loss: 2.0264\n",
            "Epoch 2/10\n",
            "\u001b[1m782/782\u001b[0m \u001b[32m━━━━━━━━━━━━━━━━━━━━\u001b[0m\u001b[37m\u001b[0m \u001b[1m29s\u001b[0m 11ms/step - accuracy: 0.2899 - loss: 1.9739 - val_accuracy: 0.3088 - val_loss: 1.9077\n",
            "Epoch 3/10\n",
            "\u001b[1m782/782\u001b[0m \u001b[32m━━━━━━━━━━━━━━━━━━━━\u001b[0m\u001b[37m\u001b[0m \u001b[1m11s\u001b[0m 12ms/step - accuracy: 0.3149 - loss: 1.9000 - val_accuracy: 0.3553 - val_loss: 1.8275\n",
            "Epoch 4/10\n",
            "\u001b[1m782/782\u001b[0m \u001b[32m━━━━━━━━━━━━━━━━━━━━\u001b[0m\u001b[37m\u001b[0m \u001b[1m8s\u001b[0m 10ms/step - accuracy: 0.3404 - loss: 1.8556 - val_accuracy: 0.3376 - val_loss: 1.8576\n",
            "Epoch 5/10\n",
            "\u001b[1m782/782\u001b[0m \u001b[32m━━━━━━━━━━━━━━━━━━━━\u001b[0m\u001b[37m\u001b[0m \u001b[1m11s\u001b[0m 11ms/step - accuracy: 0.3498 - loss: 1.8290 - val_accuracy: 0.3654 - val_loss: 1.8097\n",
            "Epoch 6/10\n",
            "\u001b[1m782/782\u001b[0m \u001b[32m━━━━━━━━━━━━━━━━━━━━\u001b[0m\u001b[37m\u001b[0m \u001b[1m8s\u001b[0m 11ms/step - accuracy: 0.3558 - loss: 1.8058 - val_accuracy: 0.3529 - val_loss: 1.8085\n",
            "Epoch 7/10\n",
            "\u001b[1m782/782\u001b[0m \u001b[32m━━━━━━━━━━━━━━━━━━━━\u001b[0m\u001b[37m\u001b[0m \u001b[1m11s\u001b[0m 12ms/step - accuracy: 0.3694 - loss: 1.7848 - val_accuracy: 0.3839 - val_loss: 1.7522\n",
            "Epoch 8/10\n",
            "\u001b[1m782/782\u001b[0m \u001b[32m━━━━━━━━━━━━━━━━━━━━\u001b[0m\u001b[37m\u001b[0m \u001b[1m8s\u001b[0m 10ms/step - accuracy: 0.3748 - loss: 1.7638 - val_accuracy: 0.3641 - val_loss: 1.7779\n",
            "Epoch 9/10\n",
            "\u001b[1m782/782\u001b[0m \u001b[32m━━━━━━━━━━━━━━━━━━━━\u001b[0m\u001b[37m\u001b[0m \u001b[1m8s\u001b[0m 11ms/step - accuracy: 0.3732 - loss: 1.7620 - val_accuracy: 0.3774 - val_loss: 1.7514\n",
            "Epoch 10/10\n",
            "\u001b[1m782/782\u001b[0m \u001b[32m━━━━━━━━━━━━━━━━━━━━\u001b[0m\u001b[37m\u001b[0m \u001b[1m8s\u001b[0m 10ms/step - accuracy: 0.3808 - loss: 1.7478 - val_accuracy: 0.3637 - val_loss: 1.7721\n",
            "Epoch 1/10\n",
            "\u001b[1m782/782\u001b[0m \u001b[32m━━━━━━━━━━━━━━━━━━━━\u001b[0m\u001b[37m\u001b[0m \u001b[1m113s\u001b[0m 68ms/step - accuracy: 0.1694 - loss: 8.2152 - val_accuracy: 0.1330 - val_loss: 98.4587\n",
            "Epoch 2/10\n",
            "\u001b[1m782/782\u001b[0m \u001b[32m━━━━━━━━━━━━━━━━━━━━\u001b[0m\u001b[37m\u001b[0m \u001b[1m30s\u001b[0m 38ms/step - accuracy: 0.2765 - loss: 2.2760 - val_accuracy: 0.3603 - val_loss: 6.7388\n",
            "Epoch 3/10\n",
            "\u001b[1m782/782\u001b[0m \u001b[32m━━━━━━━━━━━━━━━━━━━━\u001b[0m\u001b[37m\u001b[0m \u001b[1m41s\u001b[0m 38ms/step - accuracy: 0.3901 - loss: 1.8319 - val_accuracy: 0.4532 - val_loss: 4.3089\n",
            "Epoch 4/10\n",
            "\u001b[1m782/782\u001b[0m \u001b[32m━━━━━━━━━━━━━━━━━━━━\u001b[0m\u001b[37m\u001b[0m \u001b[1m42s\u001b[0m 40ms/step - accuracy: 0.4801 - loss: 1.5552 - val_accuracy: 0.5176 - val_loss: 5.0240\n",
            "Epoch 5/10\n",
            "\u001b[1m782/782\u001b[0m \u001b[32m━━━━━━━━━━━━━━━━━━━━\u001b[0m\u001b[37m\u001b[0m \u001b[1m40s\u001b[0m 38ms/step - accuracy: 0.5501 - loss: 1.3537 - val_accuracy: 0.5667 - val_loss: 2.9537\n",
            "Epoch 6/10\n",
            "\u001b[1m782/782\u001b[0m \u001b[32m━━━━━━━━━━━━━━━━━━━━\u001b[0m\u001b[37m\u001b[0m \u001b[1m41s\u001b[0m 38ms/step - accuracy: 0.6057 - loss: 1.1614 - val_accuracy: 0.6053 - val_loss: 2.5024\n",
            "Epoch 7/10\n",
            "\u001b[1m782/782\u001b[0m \u001b[32m━━━━━━━━━━━━━━━━━━━━\u001b[0m\u001b[37m\u001b[0m \u001b[1m41s\u001b[0m 38ms/step - accuracy: 0.6448 - loss: 1.0342 - val_accuracy: 0.6354 - val_loss: 2.2039\n",
            "Epoch 8/10\n",
            "\u001b[1m782/782\u001b[0m \u001b[32m━━━━━━━━━━━━━━━━━━━━\u001b[0m\u001b[37m\u001b[0m \u001b[1m41s\u001b[0m 38ms/step - accuracy: 0.6883 - loss: 0.9156 - val_accuracy: 0.6625 - val_loss: 1.4668\n",
            "Epoch 9/10\n",
            "\u001b[1m782/782\u001b[0m \u001b[32m━━━━━━━━━━━━━━━━━━━━\u001b[0m\u001b[37m\u001b[0m \u001b[1m40s\u001b[0m 38ms/step - accuracy: 0.7190 - loss: 0.8086 - val_accuracy: 0.6766 - val_loss: 1.4755\n",
            "Epoch 10/10\n",
            "\u001b[1m782/782\u001b[0m \u001b[32m━━━━━━━━━━━━━━━━━━━━\u001b[0m\u001b[37m\u001b[0m \u001b[1m30s\u001b[0m 38ms/step - accuracy: 0.7503 - loss: 0.7231 - val_accuracy: 0.6886 - val_loss: 1.4009\n",
            "\u001b[1m313/313\u001b[0m \u001b[32m━━━━━━━━━━━━━━━━━━━━\u001b[0m\u001b[37m\u001b[0m \u001b[1m5s\u001b[0m 8ms/step - accuracy: 0.6987 - loss: 1.2416\n",
            "Test Accuracy: 0.6886\n",
            "Model saved as 'resnet50_cifar10.keras'\n"
          ]
        }
      ],
      "source": [
        "(a_train, b_train), (a_test, b_test) = cifar10.load_data()\n",
        "a_train = a_train.astype('float32') / 255.0\n",
        "a_test = a_test.astype('float32') / 255.0\n",
        "b_train = to_categorical(b_train, 10)\n",
        "b_test = to_categorical(b_test, 10)\n",
        "\n",
        "temelj = ResNet50(weights='imagenet', include_top=False, input_shape=(32, 32, 3))\n",
        "x = GlobalAveragePooling2D()(temelj.output)\n",
        "predikcija = Dense(10, activation='softmax')(x)\n",
        "model = Model(inputs=temelj.input, outputs=predikcija)\n",
        "\n",
        "for layer in temelj.layers:\n",
        "    layer.trainable = False\n",
        "\n",
        "model.compile(optimizer=Adam(learning_rate=0.001),\n",
        "              loss='categorical_crossentropy',\n",
        "              metrics=['accuracy'])\n",
        "\n",
        "history = model.fit(\n",
        "    a_train, b_train,\n",
        "    batch_size=64,\n",
        "    epochs=10,\n",
        "    validation_data=(a_test, b_test),\n",
        "    verbose=1\n",
        ")\n",
        "\n",
        "for layer in temelj.layers:\n",
        "    layer.trainable = True\n",
        "\n",
        "model.compile(optimizer=Adam(learning_rate=1e-5),\n",
        "              loss='categorical_crossentropy',\n",
        "              metrics=['accuracy'])\n",
        "\n",
        "history_fine = model.fit(\n",
        "    a_train, b_train,\n",
        "    batch_size=64,\n",
        "    epochs=10,\n",
        "    validation_data=(a_test, b_test),\n",
        "    verbose=1\n",
        ")\n",
        "\n",
        "loss, accuracy = model.evaluate(a_test, b_test, verbose=1)\n",
        "print(f\"Test Accuracy: {accuracy:.4f}\")\n",
        "\n",
        "model.save('resnet50_cifar10.keras')\n",
        "print(\"Model saved as 'resnet50_cifar10.keras'\")"
      ]
    },
    {
      "cell_type": "code",
      "execution_count": 7,
      "metadata": {
        "colab": {
          "base_uri": "https://localhost:8080/"
        },
        "id": "hpk7QlvY3S8T",
        "outputId": "95b844e2-9175-47a4-8dc2-1011ca39cf8c"
      },
      "outputs": [
        {
          "name": "stdout",
          "output_type": "stream",
          "text": [
            "\u001b[1m313/313\u001b[0m \u001b[32m━━━━━━━━━━━━━━━━━━━━\u001b[0m\u001b[37m\u001b[0m \u001b[1m9s\u001b[0m 16ms/step\n",
            "Predicted class: brod\n"
          ]
        }
      ],
      "source": [
        "from sklearn.metrics import classification_report,confusion_matrix\n",
        "\n",
        "predictions = model.predict(a_test)\n",
        "predict_classes = np.argmax(predictions, axis=1)\n",
        "\n",
        "predicted_index = predict_classes[1]\n",
        "predicted_name = grupe[predicted_index]\n",
        "print(f\"Predicted class: {predicted_name}\")"
      ]
    },
    {
      "cell_type": "code",
      "execution_count": 8,
      "metadata": {
        "colab": {
          "base_uri": "https://localhost:8080/"
        },
        "id": "Pt31v1wD3umZ",
        "outputId": "5c8bf5fb-db06-4465-f127-942cda31c5d3"
      },
      "outputs": [
        {
          "name": "stderr",
          "output_type": "stream",
          "text": [
            "WARNING:absl:Compiled the loaded model, but the compiled metrics have yet to be built. `model.compile_metrics` will be empty until you train or evaluate the model.\n"
          ]
        }
      ],
      "source": [
        "efficientnet_model = load_model('efficientnetb0_cifar10.h5')\n",
        "mobilenet_model = load_model('mobilenetv2.keras')\n",
        "resnet_model = load_model('resnet50_cifar10.keras')"
      ]
    },
    {
      "cell_type": "code",
      "execution_count": 9,
      "metadata": {
        "colab": {
          "base_uri": "https://localhost:8080/",
          "height": 708
        },
        "id": "IbGkUUtk3xA0",
        "outputId": "220a7188-d17b-4eef-d379-6716a651ef6e"
      },
      "outputs": [
        {
          "name": "stdout",
          "output_type": "stream",
          "text": [
            "\u001b[1m1/1\u001b[0m \u001b[32m━━━━━━━━━━━━━━━━━━━━\u001b[0m\u001b[37m\u001b[0m \u001b[1m7s\u001b[0m 7s/step\n",
            "\u001b[1m1/1\u001b[0m \u001b[32m━━━━━━━━━━━━━━━━━━━━\u001b[0m\u001b[37m\u001b[0m \u001b[1m3s\u001b[0m 3s/step\n"
          ]
        },
        {
          "name": "stderr",
          "output_type": "stream",
          "text": [
            "WARNING:tensorflow:5 out of the last 316 calls to <function TensorFlowTrainer.make_predict_function.<locals>.one_step_on_data_distributed at 0x785379404a40> triggered tf.function retracing. Tracing is expensive and the excessive number of tracings could be due to (1) creating @tf.function repeatedly in a loop, (2) passing tensors with different shapes, (3) passing Python objects instead of tensors. For (1), please define your @tf.function outside of the loop. For (2), @tf.function has reduce_retracing=True option that can avoid unnecessary retracing. For (3), please refer to https://www.tensorflow.org/guide/function#controlling_retracing and https://www.tensorflow.org/api_docs/python/tf/function for  more details.\n"
          ]
        },
        {
          "name": "stdout",
          "output_type": "stream",
          "text": [
            "\u001b[1m1/1\u001b[0m \u001b[32m━━━━━━━━━━━━━━━━━━━━\u001b[0m\u001b[37m\u001b[0m \u001b[1m4s\u001b[0m 4s/step\n",
            "\u001b[1m1/1\u001b[0m \u001b[32m━━━━━━━━━━━━━━━━━━━━\u001b[0m\u001b[37m\u001b[0m \u001b[1m0s\u001b[0m 26ms/step\n",
            "\u001b[1m1/1\u001b[0m \u001b[32m━━━━━━━━━━━━━━━━━━━━\u001b[0m\u001b[37m\u001b[0m \u001b[1m0s\u001b[0m 20ms/step\n",
            "\u001b[1m1/1\u001b[0m \u001b[32m━━━━━━━━━━━━━━━━━━━━\u001b[0m\u001b[37m\u001b[0m \u001b[1m0s\u001b[0m 21ms/step\n",
            "\u001b[1m1/1\u001b[0m \u001b[32m━━━━━━━━━━━━━━━━━━━━\u001b[0m\u001b[37m\u001b[0m \u001b[1m0s\u001b[0m 21ms/step\n",
            "\u001b[1m1/1\u001b[0m \u001b[32m━━━━━━━━━━━━━━━━━━━━\u001b[0m\u001b[37m\u001b[0m \u001b[1m0s\u001b[0m 19ms/step\n",
            "\u001b[1m1/1\u001b[0m \u001b[32m━━━━━━━━━━━━━━━━━━━━\u001b[0m\u001b[37m\u001b[0m \u001b[1m0s\u001b[0m 22ms/step\n",
            "\u001b[1m1/1\u001b[0m \u001b[32m━━━━━━━━━━━━━━━━━━━━\u001b[0m\u001b[37m\u001b[0m \u001b[1m0s\u001b[0m 23ms/step\n",
            "\u001b[1m1/1\u001b[0m \u001b[32m━━━━━━━━━━━━━━━━━━━━\u001b[0m\u001b[37m\u001b[0m \u001b[1m0s\u001b[0m 19ms/step\n",
            "\u001b[1m1/1\u001b[0m \u001b[32m━━━━━━━━━━━━━━━━━━━━\u001b[0m\u001b[37m\u001b[0m \u001b[1m0s\u001b[0m 20ms/step\n",
            "\u001b[1m1/1\u001b[0m \u001b[32m━━━━━━━━━━━━━━━━━━━━\u001b[0m\u001b[37m\u001b[0m \u001b[1m0s\u001b[0m 21ms/step\n",
            "\u001b[1m1/1\u001b[0m \u001b[32m━━━━━━━━━━━━━━━━━━━━\u001b[0m\u001b[37m\u001b[0m \u001b[1m0s\u001b[0m 19ms/step\n",
            "\u001b[1m1/1\u001b[0m \u001b[32m━━━━━━━━━━━━━━━━━━━━\u001b[0m\u001b[37m\u001b[0m \u001b[1m0s\u001b[0m 20ms/step\n",
            "\u001b[1m1/1\u001b[0m \u001b[32m━━━━━━━━━━━━━━━━━━━━\u001b[0m\u001b[37m\u001b[0m \u001b[1m0s\u001b[0m 20ms/step\n",
            "\u001b[1m1/1\u001b[0m \u001b[32m━━━━━━━━━━━━━━━━━━━━\u001b[0m\u001b[37m\u001b[0m \u001b[1m0s\u001b[0m 18ms/step\n",
            "\u001b[1m1/1\u001b[0m \u001b[32m━━━━━━━━━━━━━━━━━━━━\u001b[0m\u001b[37m\u001b[0m \u001b[1m0s\u001b[0m 20ms/step\n"
          ]
        },
        {
          "data": {
            "image/png": "[encoded data removed]",
            "text/plain": [
              "<Figure size 1200x800 with 6 Axes>"
            ]
          },
          "metadata": {},
          "output_type": "display_data"
        }
      ],
      "source": [
        "# Select multiple random indices\n",
        "random_indices = [2, 1, 634, 732, 112 , 113]\n",
        "\n",
        "# Plot the images and predictions\n",
        "plt.figure(figsize=(12, 8))  # Adjust figure size as needed\n",
        "\n",
        "for i, random_index in enumerate(random_indices):\n",
        "    image = a_test[random_index]\n",
        "    true_label = grupe[np.argmax(b_test[random_index])]\n",
        "\n",
        "    # Model predictions\n",
        "    efficientnet_pred = efficientnet_model.predict(np.expand_dims(image, axis=0))\n",
        "    mobilenet_pred = mobilenet_model.predict(np.expand_dims(image, axis=0))\n",
        "    resnet_pred = resnet_model.predict(np.expand_dims(image, axis=0))\n",
        "\n",
        "    efficientnet_label = grupe[np.argmax(efficientnet_pred)]\n",
        "    mobilenet_label = grupe[np.argmax(mobilenet_pred)]\n",
        "    resnet_label = grupe[np.argmax(resnet_pred)]\n",
        "\n",
        "    # Display the image with predictions\n",
        "    plt.subplot(3, 3, i + 1)  # Create a 2x2 grid for the 4 images\n",
        "    plt.imshow(image)\n",
        "    plt.axis('off')\n",
        "    plt.title(f\"True: {true_label}\\nEfficientNet: {efficientnet_label}\\nMobileNet: {mobilenet_label}\\nResNet: {resnet_label}\")\n",
        "\n",
        "plt.tight_layout()\n",
        "plt.show()"
      ]
    }
  ],
  "metadata": {
    "accelerator": "GPU",
    "colab": {
      "gpuType": "T4",
      "provenance": []
    },
    "kernelspec": {
      "display_name": "Python 3",
      "name": "python3"
    },
    "language_info": {
      "name": "python",
      "version": "3.11.9"
    }
  },
  "nbformat": 4,
  "nbformat_minor": 0
}
